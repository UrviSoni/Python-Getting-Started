{
 "cells": [
  {
   "cell_type": "code",
   "execution_count": 1,
   "id": "77b65150",
   "metadata": {},
   "outputs": [
    {
     "name": "stdout",
     "output_type": "stream",
     "text": [
      "Hello World\n"
     ]
    }
   ],
   "source": [
    "# Program :- Write a program to print \"Hello World\"\n",
    "\n",
    "print(\"Hello World\")"
   ]
  },
  {
   "cell_type": "code",
   "execution_count": 3,
   "id": "db8c9a8c",
   "metadata": {},
   "outputs": [
    {
     "name": "stdout",
     "output_type": "stream",
     "text": [
      "Enter the first number for addition:- 5\n",
      "Enter the sencond number for addition:- 2\n",
      "sum: 5.0 + 2.0 = 7.0\n"
     ]
    }
   ],
   "source": [
    "# Program :- Write a program to perform Addition of the two numbers\n",
    "\n",
    "num1 = float(input(\"Enter the first number for addition:- \"))\n",
    "num2 = float(input(\"Enter the sencond number for addition:- \"))\n",
    "result = num1 + num2\n",
    "print(f\"sum: {num1} + {num2} = {result}\")"
   ]
  },
  {
   "cell_type": "code",
   "execution_count": 5,
   "id": "81e2e1a9",
   "metadata": {},
   "outputs": [
    {
     "name": "stdout",
     "output_type": "stream",
     "text": [
      "Enter the first number for subtraction:- 5\n",
      "Enter the second number for subtraction:- 4\n",
      "sub: 5.0 - 4.0 = 1.0\n"
     ]
    }
   ],
   "source": [
    "# Program :- Write a program to perform Subtraction of the two numbers\n",
    "\n",
    "num1 = float(input(\"Enter the first number for subtraction:- \"))\n",
    "num2 = float(input(\"Enter the second number for subtraction:- \"))\n",
    "result = num1 - num2\n",
    "print(f\"sub: {num1} - {num2} = {result}\")"
   ]
  },
  {
   "cell_type": "code",
   "execution_count": 6,
   "id": "2bd5fe39",
   "metadata": {},
   "outputs": [
    {
     "name": "stdout",
     "output_type": "stream",
     "text": [
      "Enter the first number for multiplication:- 5\n",
      "Enter the second number for multiplication:- 3\n",
      "multiply: 5.0 * 3.0 = 15.0\n"
     ]
    }
   ],
   "source": [
    "# Program :- Write a program to perform Multiplication of the two numbers\n",
    "\n",
    "num1 = float(input(\"Enter the first number for multiplication:- \"))\n",
    "num2 = float(input(\"Enter the second number for multiplication:- \"))\n",
    "result = num1 * num2\n",
    "print(f\"multiply: {num1} * {num2} = {result}\")"
   ]
  },
  {
   "cell_type": "code",
   "execution_count": 7,
   "id": "89efcecc",
   "metadata": {},
   "outputs": [
    {
     "name": "stdout",
     "output_type": "stream",
     "text": [
      "Enter the first number for multiplication:- 6\n",
      "Enter the second number for multiplication:- 2\n",
      "divide: 6.0 / 2.0 = 3.0\n"
     ]
    }
   ],
   "source": [
    "# Program :- Write a program to perform Division of the two numbers\n",
    "\n",
    "num1 = float(input(\"Enter the first number for multiplication:- \"))\n",
    "num2 = float(input(\"Enter the second number for multiplication:- \"))\n",
    "result = num1 / num2\n",
    "print(f\"divide: {num1} / {num2} = {result}\")"
   ]
  }
 ],
 "metadata": {
  "kernelspec": {
   "display_name": "Python 3 (ipykernel)",
   "language": "python",
   "name": "python3"
  },
  "language_info": {
   "codemirror_mode": {
    "name": "ipython",
    "version": 3
   },
   "file_extension": ".py",
   "mimetype": "text/x-python",
   "name": "python",
   "nbconvert_exporter": "python",
   "pygments_lexer": "ipython3",
   "version": "3.8.10"
  }
 },
 "nbformat": 4,
 "nbformat_minor": 5
}
